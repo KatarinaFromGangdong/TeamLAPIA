{
 "cells": [
  {
   "cell_type": "code",
   "execution_count": null,
   "metadata": {},
   "outputs": [],
   "source": [
    "# final program for pH\n",
    "import smbus\n",
    "import time\n",
    "\n",
    "while True:\n",
    "    try:\n",
    "        # I2C ph_address of the EZO pH sensor\n",
    "        ph_address = 0x63 # 0x61 for DO\n",
    "\n",
    "        # Create an instance of the SMBus\n",
    "        bus = smbus.SMBus(1)\n",
    "\n",
    "        # Send the \"R\" command to the EZO pH sensor to request a reading\n",
    "        bus.write_byte(ph_address, ord('R'))\n",
    "\n",
    "        # Wait for the EZO pH sensor to complete the reading\n",
    "        time.sleep(1.5)\n",
    "\n",
    "        # Read the response from the EZO pH sensor\n",
    "        response = bus.read_i2c_block_data(ph_address, 0x00, 7)\n",
    "\n",
    "        # Convert the response to pH level\n",
    "        ph_level = bytearray(response[1:6]).decode('utf-8')\n",
    "\n",
    "        # Print the pH level\n",
    "        print(\"pH level: \", ph_level)\n",
    "        time.sleep(4) # gives 4s before reading again\n",
    "\n",
    "    except Exception as error:\n",
    "        print(\"Something went wrong! --->\", error)\n",
    "    except KeyboardInterrupt:\n",
    "        print(\"\\nKeyboard interrupted\")"
   ]
  },
  {
   "cell_type": "code",
   "execution_count": null,
   "metadata": {},
   "outputs": [],
   "source": [
    "# final program for water temp\n",
    "import os\n",
    "import glob\n",
    "import time\n",
    "\n",
    "try:\n",
    "    os.system('modprobe w1-gpio')\n",
    "    os.system('modprobe w1-therm')\n",
    "    \n",
    "    base_dir = '/sys/bus/w1/devices/'\n",
    "    device_folder = glob.glob(base_dir + '28*')[0]\n",
    "    device_file = device_folder + '/w1_slave'\n",
    "    \n",
    "    def read_temp_raw():\n",
    "        f = open(device_file, 'r')\n",
    "        lines = f.readlines()\n",
    "        f.close()\n",
    "        return lines\n",
    "    \n",
    "    def read_temp():\n",
    "        lines = read_temp_raw()\n",
    "        while lines[0].strip()[-3:] != 'YES':\n",
    "            time.sleep(0.2)\n",
    "            lines = read_temp_raw()\n",
    "        equals_pos = lines[1].find('t=')\n",
    "        if equals_pos != -1:\n",
    "            temp_string = lines[1][equals_pos+2:]\n",
    "            temp_c = float(temp_string) / 1000.0\n",
    "            return temp_c\n",
    "    \n",
    "    while True:\n",
    "        print(f\"Water temperature: {read_temp()}\\u00b0C\")\n",
    "        time.sleep(2)\n",
    "        \n",
    "except Exception as error:\n",
    "    print(\"Something went wrong! --->\", error)\n",
    "except KeyboardInterrupt:\n",
    "    print(\"\\nKeyboard interrupted\")\n"
   ]
  },
  {
   "cell_type": "code",
   "execution_count": null,
   "metadata": {},
   "outputs": [],
   "source": [
    "# final program for turbidity\n",
    "import math\n",
    "import time\n",
    "import board\n",
    "import busio\n",
    "# from adafruit_ads1x15.analog_in import AnalogIn\n",
    "import adafruit_ads1x15.ads1015 as ADS\n",
    "from adafruit_ads1x15.analog_in import AnalogIn\n",
    "\n",
    "try:\n",
    "    # Initialize I2C bus and analog input\n",
    "    i2c = busio.I2C(board.SCL, board.SDA)\n",
    "    ads = ADS.ADS1015(i2c)\n",
    "    chan = AnalogIn(ads, ADS.P0)\n",
    "\n",
    "    # Define function to read sensor data\n",
    "    def read_sensor():\n",
    "        # Read sensor data\n",
    "        voltage = chan.voltage\n",
    "        # turbidity = (5 - voltage) * 1000 / 5 # convert voltage to turbidity (NTU)\n",
    "        # square_root = math.sqrt(voltage)\n",
    "        turbidity = -1120.4**voltage + 5742.3*voltage-4353.8\n",
    "\n",
    "        # Return sensor data\n",
    "        return turbidity\n",
    "\n",
    "    # Continuously read and print sensor data\n",
    "    while True:\n",
    "        turbidity = read_sensor()\n",
    "        print(f'voltage: {chan.voltage} Turbidity: {turbidity}')\n",
    "        time.sleep(1)\n",
    "        \n",
    "except Exception as error:\n",
    "    print(\"Something went wrong! --->\", error)\n",
    "except KeyboardInterrupt:\n",
    "    print(\"\\nKeyboard interrupted\")\n"
   ]
  },
  {
   "cell_type": "code",
   "execution_count": 6,
   "metadata": {},
   "outputs": [],
   "source": [
    "# saving data in csv file\n",
    "import csv\n",
    "import random\n",
    "\n",
    "# Generate some random data\n",
    "data = [[random.randint(1, 10) for j in range(5)] for i in range(10)]\n",
    "\n",
    "# Create a new CSV file\n",
    "with open('random_data.csv', mode='a', newline='') as file:\n",
    "    # Create a CSV writer object\n",
    "    writer = csv.writer(file)\n",
    "\n",
    "    # Write the header row\n",
    "    writer.writerow(['Column 1', 'Column 2', 'Column 3', 'Column 4', 'Column 5'])\n",
    "\n",
    "    # Write the data rows\n",
    "    for row in data:\n",
    "        writer.writerow(row)\n",
    "\n",
    "# Close the file\n",
    "file.close()\n"
   ]
  },
  {
   "cell_type": "code",
   "execution_count": 9,
   "metadata": {},
   "outputs": [
    {
     "name": "stdout",
     "output_type": "stream",
     "text": [
      "now = 2023-04-12 01:28:41.295614\n",
      "date and time = 04/12/2023 01:28:41\n"
     ]
    }
   ],
   "source": [
    "from datetime import datetime\n",
    "\n",
    "# datetime object containing current date and time\n",
    "now = datetime.now()\n",
    " \n",
    "print(\"now =\", now)\n",
    "\n",
    "# dd/mm/YY H:M:S\n",
    "dt_string = now.strftime(\"%m/%d/%Y %H:%M:%S\")\n",
    "print(\"date and time =\", dt_string)"
   ]
  },
  {
   "cell_type": "code",
   "execution_count": 16,
   "metadata": {},
   "outputs": [
    {
     "ename": "KeyboardInterrupt",
     "evalue": "",
     "output_type": "error",
     "traceback": [
      "\u001b[1;31m---------------------------------------------------------------------------\u001b[0m",
      "\u001b[1;31mKeyboardInterrupt\u001b[0m                         Traceback (most recent call last)",
      "Cell \u001b[1;32mIn[16], line 19\u001b[0m\n\u001b[0;32m     17\u001b[0m \u001b[39m# Create a list of 5 random numbers between 1 to 100\u001b[39;00m\n\u001b[0;32m     18\u001b[0m listOfNumbers \u001b[39m=\u001b[39m random\u001b[39m.\u001b[39msample(\u001b[39mrange\u001b[39m(\u001b[39m1\u001b[39m, \u001b[39m100\u001b[39m), \u001b[39m5\u001b[39m)\n\u001b[1;32m---> 19\u001b[0m time\u001b[39m.\u001b[39;49msleep(\u001b[39m2\u001b[39;49m)\n\u001b[0;32m     20\u001b[0m \u001b[39m# Append the list as a row to the csv file\u001b[39;00m\n\u001b[0;32m     21\u001b[0m writerObj\u001b[39m.\u001b[39mwriterow([listOfNumbers, dt_string])\n",
      "\u001b[1;31mKeyboardInterrupt\u001b[0m: "
     ]
    }
   ],
   "source": [
    "import csv\n",
    "import random\n",
    "from datetime import datetime\n",
    "import time\n",
    "\n",
    "# datetime object containing current date and time\n",
    "now = datetime.now()\n",
    "\n",
    "# Open the csv file for writing\n",
    "with open('numbers.csv', 'a') as fileObj:\n",
    "    # Create a CSV writer object\n",
    "    writerObj = csv.writer(fileObj)\n",
    "    # Add header row as the list\n",
    "    writerObj.writerow(['first', 'second', 'third', 'fourth', 'fifth'])\n",
    "    while True:\n",
    "        dt_string = now.strftime(\"%m/%d/%Y %H:%M:%S\")\n",
    "        # Create a list of 5 random numbers between 1 to 100\n",
    "        listOfNumbers = random.sample(range(1, 100), 5)\n",
    "        time.sleep(2)\n",
    "        # Append the list as a row to the csv file\n",
    "        writerObj.writerow([listOfNumbers, dt_string])\n",
    "        # writerObj.writerow(dt_string)"
   ]
  },
  {
   "cell_type": "code",
   "execution_count": null,
   "metadata": {},
   "outputs": [],
   "source": [
    "import csv\n",
    "\n",
    "with open('combined_file.csv', 'w', newline='') as out_csv:\n",
    "    writer = csv.DictWriter(out_csv, fieldnames = [\"Date\", \"temperature 1\", \"Temperature 2\"])\n",
    "    writer.writeheader()\n",
    "\n",
    "    with open('t1.csv', 'r', newline='') as in_csv:\n",
    "        reader = csv.reader(in_csv)\n",
    "        writer.writerows(row + [0.0] for row in reader)\n",
    "\n",
    "    with open('t2.csv', 'r', newline='') as in_csv:\n",
    "        reader = csv.reader(in_csv)\n",
    "        writer.writerows(row[:1] + [0.0] + row[1:] for row in reader)"
   ]
  },
  {
   "cell_type": "code",
   "execution_count": 24,
   "metadata": {},
   "outputs": [
    {
     "name": "stdout",
     "output_type": "stream",
     "text": [
      "qwertyuiop\n"
     ]
    }
   ],
   "source": [
    "# Taking input from user\n",
    "data = input('Enter your message: ')\n",
    "# conversion Chart\n",
    "la=\"abcdefghijklmnopqrstuvwxyz!@#$%^&*()_+=-0987654321\"\n",
    "ua=\"ABCDEFGHIJKLMNOPQRSTUVWXYZ1234567890-=+_)(*&^%$#@!)\"\n",
    "lra=la[::-1]\n",
    "ura=ua[::-1000]\n",
    "# Creating converted output\n",
    "converted_data = \"\"\n",
    "\n",
    "\n",
    "for i in range(0, len(data)):\n",
    "\tif data[i] in la:\n",
    "\t\tconverted_data+=lra[la.index(data[i])]\n",
    "\telif data[i] in ua:\n",
    "\t\tconverted_data+=ura[ua.index(data[i])]\n",
    "\telse:\n",
    "\t\tconverted_data+=\" \"\n",
    "# Printing converted output\n",
    "print(converted_data)\n"
   ]
  }
 ],
 "metadata": {
  "kernelspec": {
   "display_name": "Python 3",
   "language": "python",
   "name": "python3"
  },
  "language_info": {
   "codemirror_mode": {
    "name": "ipython",
    "version": 3
   },
   "file_extension": ".py",
   "mimetype": "text/x-python",
   "name": "python",
   "nbconvert_exporter": "python",
   "pygments_lexer": "ipython3",
   "version": "3.10.4"
  },
  "orig_nbformat": 4
 },
 "nbformat": 4,
 "nbformat_minor": 2
}
